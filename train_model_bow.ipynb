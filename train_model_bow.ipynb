{
 "cells": [
  {
   "cell_type": "code",
   "execution_count": 1,
   "id": "482eb702",
   "metadata": {},
   "outputs": [],
   "source": [
    "import os\n",
    "import joblib\n",
    "from sklearn.svm import SVC\n",
    "from sklearn.naive_bayes import MultinomialNB\n",
    "from sklearn.neighbors import KNeighborsClassifier \n",
    "from sklearn.feature_extraction.text import CountVectorizer\n",
    "from sklearn.model_selection import train_test_split\n",
    "\n",
    "from utils.evaluation import evaluate_model\n",
    "from utils.preprocess import preprocess_text_bow"
   ]
  },
  {
   "cell_type": "code",
   "execution_count": 2,
   "id": "a28056c6",
   "metadata": {},
   "outputs": [],
   "source": [
    "# Get the constants via config.py\n",
    "from utils.constants import (\n",
    "    DATA_FOLDER_RAW,\n",
    "    LANGUAGE_MODEL_BOW,\n",
    "    DATA_FOLDER_NAME_POSITIVE,\n",
    "    DATA_FOLDER_NAME_NEGATIVE,\n",
    "    DATA_FOLDER_NAME_NEUTRAL,\n",
    ")"
   ]
  },
  {
   "cell_type": "markdown",
   "id": "090ab5ab",
   "metadata": {},
   "source": [
    "***tf-idf not preffered to not reduce the context and texts are small enough***"
   ]
  },
  {
   "cell_type": "code",
   "execution_count": 3,
   "id": "0be7c316",
   "metadata": {},
   "outputs": [
    {
     "name": "stderr",
     "output_type": "stream",
     "text": [
      "/home/kivanc57/Desktop/ml/.venv/lib64/python3.12/site-packages/tqdm/auto.py:21: TqdmWarning: IProgress not found. Please update jupyter and ipywidgets. See https://ipywidgets.readthedocs.io/en/stable/user_install.html\n",
      "  from .autonotebook import tqdm as notebook_tqdm\n"
     ]
    }
   ],
   "source": [
    "lemmas_positive = preprocess_text_bow(DATA_FOLDER_RAW, DATA_FOLDER_NAME_POSITIVE, LANGUAGE_MODEL_BOW)\n",
    "labels_positive = [1] * len(lemmas_positive)\n",
    "\n",
    "lemmas_negative = preprocess_text_bow(DATA_FOLDER_RAW, DATA_FOLDER_NAME_NEGATIVE, LANGUAGE_MODEL_BOW)\n",
    "labels_negative = [0] * len(lemmas_negative)\n",
    "\n",
    "lemmas_neutral = preprocess_text_bow(DATA_FOLDER_RAW, DATA_FOLDER_NAME_NEUTRAL, LANGUAGE_MODEL_BOW)\n",
    "labels_neutral = [2] * len(lemmas_neutral)"
   ]
  },
  {
   "cell_type": "code",
   "execution_count": 4,
   "id": "c54161f3",
   "metadata": {},
   "outputs": [
    {
     "name": "stdout",
     "output_type": "stream",
     "text": [
      "Number of positive samples: 1000\n",
      "Number of negative samples: 1000\n",
      "Number of neutral samples: 1000\n"
     ]
    }
   ],
   "source": [
    "print(f\"Number of positive samples: {len(lemmas_positive)}\")\n",
    "print(f\"Number of negative samples: {len(lemmas_negative)}\")\n",
    "print(f\"Number of neutral samples: {len(lemmas_neutral)}\")"
   ]
  },
  {
   "cell_type": "code",
   "execution_count": 5,
   "id": "bde09191",
   "metadata": {},
   "outputs": [],
   "source": [
    "def train(lemmas, labels, model_type='svm', kernel='linear'):\n",
    "  model_path = os.path.join('models', f'{model_type}_model({kernel}).pkl')\n",
    "  vectorizer_path = os.path.join('models', f'{model_type}_vectorizer({kernel}).pkl')\n",
    "\n",
    "\n",
    "  corpus = [' '.join(doc) for doc in lemmas]\n",
    "\n",
    "  X_train, X_test, y_train, y_test = train_test_split(corpus, labels, test_size=0.2, stratify=labels, random_state=42)\n",
    "\n",
    "  vectorizer = CountVectorizer(analyzer='word', ngram_range=(2, 2))\n",
    "  vectorizer.fit(X_train)\n",
    "\n",
    "  X_train_vect = vectorizer.transform(X_train)\n",
    "  X_test_vect = vectorizer.transform(X_test)\n",
    "\n",
    "  if model_type == 'svm':\n",
    "      model = SVC(kernel=kernel, random_state=42)\n",
    "  elif model_type == 'naive_bayes':\n",
    "      model = MultinomialNB()\n",
    "  elif model_type == 'knn':\n",
    "      model = KNeighborsClassifier(n_neighbors=3)\n",
    "  else:\n",
    "      raise ValueError(f\"Unsupported model type: {model_type}\")\n",
    "\n",
    "  model.fit(X_train_vect, y_train)\n",
    "\n",
    "  joblib.dump(model, model_path)\n",
    "  joblib.dump(vectorizer, vectorizer_path)\n",
    "\n",
    "  print(\"Model training complete!\")\n",
    "  print(f\"Model saved to {model_path}\")\n",
    "  print(f\"Vectorizer saved to {vectorizer_path}\")\n",
    "\n",
    "  return model, vectorizer, X_train_vect, X_test_vect, y_train, y_test"
   ]
  },
  {
   "cell_type": "code",
   "execution_count": 6,
   "id": "4f522c54",
   "metadata": {},
   "outputs": [
    {
     "name": "stdout",
     "output_type": "stream",
     "text": [
      "Model training complete!\n",
      "Model saved to models/svm_model(linear).pkl\n",
      "Vectorizer saved to models/svm_vectorizer(linear).pkl\n"
     ]
    }
   ],
   "source": [
    "all_lemmas = lemmas_positive + lemmas_negative + lemmas_neutral\n",
    "all_labels = labels_positive + labels_negative + labels_neutral\n",
    "\n",
    "model, vectorizer, X_train, X_test, y_train, y_test = train(all_lemmas, all_labels)"
   ]
  },
  {
   "cell_type": "code",
   "execution_count": 7,
   "id": "a18bb1da",
   "metadata": {},
   "outputs": [
    {
     "name": "stdout",
     "output_type": "stream",
     "text": [
      "Training data: 2400 samples, 18156 features\n",
      "Test data: 600 samples, 18156 features\n",
      "Training labels: 2400 labels\n",
      "Test labels: 600 labels\n"
     ]
    }
   ],
   "source": [
    "print(f\"Training data: {X_train.shape[0]} samples, {X_train.shape[1]} features\")\n",
    "print(f\"Test data: {X_test.shape[0]} samples, {X_test.shape[1]} features\")\n",
    "print(f\"Training labels: {len(y_train)} labels\")\n",
    "print(f\"Test labels: {len(y_test)} labels\")"
   ]
  },
  {
   "cell_type": "code",
   "execution_count": 8,
   "id": "0cde654c",
   "metadata": {},
   "outputs": [
    {
     "name": "stdout",
     "output_type": "stream",
     "text": [
      "Cross-validation results:\n",
      "Accuracy: 0.36583333333333334\n",
      "Precision: 0.36958264519353246\n",
      "Recall: 0.36583333333333334\n",
      "F1 Score: 0.3023399656573148\n",
      "Confusion Matrix:\n",
      "[[157  24  19]\n",
      " [133  36  31]\n",
      " [145  29  26]]\n"
     ]
    }
   ],
   "source": [
    "cross_val_results, confusion_matrix_result = evaluate_model(model, X_train, y_train, X_test, y_test)"
   ]
  }
 ],
 "metadata": {
  "kernelspec": {
   "display_name": ".venv",
   "language": "python",
   "name": "python3"
  },
  "language_info": {
   "codemirror_mode": {
    "name": "ipython",
    "version": 3
   },
   "file_extension": ".py",
   "mimetype": "text/x-python",
   "name": "python",
   "nbconvert_exporter": "python",
   "pygments_lexer": "ipython3",
   "version": "3.12.10"
  }
 },
 "nbformat": 4,
 "nbformat_minor": 5
}
