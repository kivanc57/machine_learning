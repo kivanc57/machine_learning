{
 "cells": [
  {
   "cell_type": "code",
   "execution_count": null,
   "id": "85685344",
   "metadata": {},
   "outputs": [],
   "source": [
    "import os\n",
    "import joblib\n",
    "\n",
    "from utils.preprocess import preprocess_text_bow"
   ]
  },
  {
   "cell_type": "code",
   "execution_count": 10,
   "id": "fe4d5545",
   "metadata": {},
   "outputs": [],
   "source": [
    "# Get the constants via config.py\n",
    "from utils.constants import (\n",
    "    DATA_FOLDER_TEST,\n",
    "    LANGUAGE_MODEL_BOW\n",
    ")"
   ]
  },
  {
   "cell_type": "code",
   "execution_count": 11,
   "id": "66dbb48f",
   "metadata": {},
   "outputs": [],
   "source": [
    "def predict(input_directory, model_type='svm', language_model='en_core_web_sm'):\n",
    "  model_path = os.path.join('models', f'{model_type}_model.pkl')\n",
    "  vectorizer_path = os.path.join('models', f'{model_type}_vectorizer.pkl')\n",
    "\n",
    "  model = joblib.load(model_path)\n",
    "  vectorizer = joblib.load(vectorizer_path)\n",
    "  \n",
    "  preprocessed_texts = preprocess_text_bow(data_folder=input_directory, given_folder=None, language_model=language_model, lemmatize=True)\n",
    "  corpus = [' '.join(doc) for doc in preprocessed_texts]\n",
    "\n",
    "  input_vector = vectorizer.transform(corpus)\n",
    "  \n",
    "  predictions = model.predict(input_vector)\n",
    "\n",
    "  return predictions"
   ]
  },
  {
   "cell_type": "code",
   "execution_count": 12,
   "id": "e93ad967",
   "metadata": {},
   "outputs": [
    {
     "name": "stdout",
     "output_type": "stream",
     "text": [
      "[0 1 0 1 0 0]\n"
     ]
    }
   ],
   "source": [
    "a=predict(input_directory=DATA_FOLDER_TEST, language_model=LANGUAGE_MODEL_BOW)\n",
    "print(a)"
   ]
  }
 ],
 "metadata": {
  "kernelspec": {
   "display_name": ".venv",
   "language": "python",
   "name": "python3"
  },
  "language_info": {
   "codemirror_mode": {
    "name": "ipython",
    "version": 3
   },
   "file_extension": ".py",
   "mimetype": "text/x-python",
   "name": "python",
   "nbconvert_exporter": "python",
   "pygments_lexer": "ipython3",
   "version": "3.12.10"
  }
 },
 "nbformat": 4,
 "nbformat_minor": 5
}
