{
 "cells": [
  {
   "cell_type": "code",
   "execution_count": 20,
   "id": "d6523375",
   "metadata": {},
   "outputs": [],
   "source": [
    "import os\n",
    "import joblib\n",
    "import numpy as np\n",
    "from sklearn.svm import SVC\n",
    "from sklearn.naive_bayes import MultinomialNB\n",
    "from sklearn.neighbors import KNeighborsClassifier\n",
    "from sklearn.model_selection import train_test_split\n",
    "\n",
    "from utils.evaluation import evaluate_model\n",
    "from utils.preprocess import preprocess_text_embeddings"
   ]
  },
  {
   "cell_type": "code",
   "execution_count": 21,
   "id": "423ebc50",
   "metadata": {},
   "outputs": [],
   "source": [
    "# Get the constants via config.py\n",
    "from utils.constants import (\n",
    "    DATA_FOLDER_INPUT,\n",
    "    LANGUAGE_MODEL_EMBEDDINGS,\n",
    "    DATA_FOLDER_NAME_POSITIVE,\n",
    "    DATA_FOLDER_NAME_NEGATIVE,\n",
    ")"
   ]
  },
  {
   "cell_type": "code",
   "execution_count": 22,
   "id": "6a01dfe4",
   "metadata": {},
   "outputs": [
    {
     "name": "stdout",
     "output_type": "stream",
     "text": [
      "(768,)\n",
      "(768,)\n"
     ]
    }
   ],
   "source": [
    "embeddings_positive = preprocess_text_embeddings(DATA_FOLDER_INPUT, DATA_FOLDER_NAME_POSITIVE, LANGUAGE_MODEL_EMBEDDINGS)\n",
    "embeddings_negative = preprocess_text_embeddings(DATA_FOLDER_INPUT, DATA_FOLDER_NAME_NEGATIVE, LANGUAGE_MODEL_EMBEDDINGS)\n",
    "\n",
    "X_embeddings = embeddings_positive + embeddings_negative\n",
    "y_embeddings = [1] * len(embeddings_positive) + [0] * len(embeddings_negative)"
   ]
  },
  {
   "cell_type": "code",
   "execution_count": 23,
   "id": "91940e04",
   "metadata": {},
   "outputs": [
    {
     "name": "stdout",
     "output_type": "stream",
     "text": [
      "Number of positive samples: 1000\n",
      "Number of negative samples: 1000\n"
     ]
    }
   ],
   "source": [
    "print(f\"Number of positive samples: {len(embeddings_positive)}\")\n",
    "print(f\"Number of negative samples: {len(embeddings_negative)}\")"
   ]
  },
  {
   "cell_type": "code",
   "execution_count": null,
   "id": "cd9b6959",
   "metadata": {},
   "outputs": [],
   "source": [
    "def train(embeddings, labels, model_type='svm', kernel='linear'):\n",
    "  model_path = os.path.join('models', f'{model_type}_model_embeddings({kernel}).pkl')\n",
    "\n",
    "  embeddings = np.array(embeddings)\n",
    "  \n",
    "  X_train, X_test, y_train, y_test = train_test_split(embeddings, labels, test_size=0.2, stratify=labels, random_state=42)\n",
    "\n",
    "  if model_type == 'svm':\n",
    "      model = SVC(kernel=kernel, random_state=42)\n",
    "  elif model_type == 'naive_bayes':\n",
    "      model = MultinomialNB()\n",
    "  elif model_type == 'knn':\n",
    "      model = KNeighborsClassifier(n_neighbors=3)\n",
    "  else:\n",
    "      raise ValueError(f\"Unsupported model type: {model_type}\")\n",
    "\n",
    "  model.fit(X_train, y_train)\n",
    "\n",
    "  joblib.dump(model, model_path)\n",
    "\n",
    "  print(\"Model training complete!\")\n",
    "  print(f\"Model saved to {model_path}\")\n",
    "\n",
    "\n",
    "  return model, X_train, X_test, y_train, y_test"
   ]
  },
  {
   "cell_type": "code",
   "execution_count": 32,
   "id": "987d1fdb",
   "metadata": {},
   "outputs": [
    {
     "name": "stdout",
     "output_type": "stream",
     "text": [
      "Model training complete!\n",
      "Model saved to models/svm_model_embeddings(linear).pkl\n"
     ]
    }
   ],
   "source": [
    "X_embeddings = embeddings_positive + embeddings_negative\n",
    "y_embeddings = [1] * len(embeddings_positive) + [0] * len(embeddings_negative)\n",
    "\n",
    "model, X_train, X_test, y_train, y_test = train(X_embeddings, y_embeddings, model_type='svm', kernel='linear')"
   ]
  },
  {
   "cell_type": "code",
   "execution_count": 33,
   "id": "21a9e648",
   "metadata": {},
   "outputs": [
    {
     "name": "stdout",
     "output_type": "stream",
     "text": [
      "Training data: 1600 samples, 768 features\n",
      "Test data: 400 samples, 768 features\n",
      "Training labels: 1600 labels\n",
      "Test labels: 400 labels\n"
     ]
    }
   ],
   "source": [
    "print(f\"Training data: {X_train.shape[0]} samples, {X_train.shape[1]} features\")\n",
    "print(f\"Test data: {X_test.shape[0]} samples, {X_test.shape[1]} features\")\n",
    "print(f\"Training labels: {len(y_train)} labels\")\n",
    "print(f\"Test labels: {len(y_test)} labels\")"
   ]
  },
  {
   "cell_type": "code",
   "execution_count": 34,
   "id": "86dccc53",
   "metadata": {},
   "outputs": [
    {
     "name": "stderr",
     "output_type": "stream",
     "text": [
      "/home/kivanc57/Workplace/Repos/machine_learning/.venv/lib64/python3.12/site-packages/sklearn/metrics/_classification.py:1565: UndefinedMetricWarning: Precision is ill-defined and being set to 0.0 in labels with no predicted samples. Use `zero_division` parameter to control this behavior.\n",
      "  _warn_prf(average, modifier, f\"{metric.capitalize()} is\", len(result))\n",
      "/home/kivanc57/Workplace/Repos/machine_learning/.venv/lib64/python3.12/site-packages/sklearn/metrics/_classification.py:1565: UndefinedMetricWarning: Precision is ill-defined and being set to 0.0 in labels with no predicted samples. Use `zero_division` parameter to control this behavior.\n",
      "  _warn_prf(average, modifier, f\"{metric.capitalize()} is\", len(result))\n",
      "/home/kivanc57/Workplace/Repos/machine_learning/.venv/lib64/python3.12/site-packages/sklearn/metrics/_classification.py:1565: UndefinedMetricWarning: Precision is ill-defined and being set to 0.0 in labels with no predicted samples. Use `zero_division` parameter to control this behavior.\n",
      "  _warn_prf(average, modifier, f\"{metric.capitalize()} is\", len(result))\n",
      "/home/kivanc57/Workplace/Repos/machine_learning/.venv/lib64/python3.12/site-packages/sklearn/metrics/_classification.py:1565: UndefinedMetricWarning: Precision is ill-defined and being set to 0.0 in labels with no predicted samples. Use `zero_division` parameter to control this behavior.\n",
      "  _warn_prf(average, modifier, f\"{metric.capitalize()} is\", len(result))\n",
      "/home/kivanc57/Workplace/Repos/machine_learning/.venv/lib64/python3.12/site-packages/sklearn/metrics/_classification.py:1565: UndefinedMetricWarning: Precision is ill-defined and being set to 0.0 in labels with no predicted samples. Use `zero_division` parameter to control this behavior.\n",
      "  _warn_prf(average, modifier, f\"{metric.capitalize()} is\", len(result))\n",
      "/home/kivanc57/Workplace/Repos/machine_learning/.venv/lib64/python3.12/site-packages/sklearn/metrics/_classification.py:1565: UndefinedMetricWarning: Precision is ill-defined and being set to 0.0 in labels with no predicted samples. Use `zero_division` parameter to control this behavior.\n",
      "  _warn_prf(average, modifier, f\"{metric.capitalize()} is\", len(result))\n",
      "/home/kivanc57/Workplace/Repos/machine_learning/.venv/lib64/python3.12/site-packages/sklearn/metrics/_classification.py:1565: UndefinedMetricWarning: Precision is ill-defined and being set to 0.0 in labels with no predicted samples. Use `zero_division` parameter to control this behavior.\n",
      "  _warn_prf(average, modifier, f\"{metric.capitalize()} is\", len(result))\n",
      "/home/kivanc57/Workplace/Repos/machine_learning/.venv/lib64/python3.12/site-packages/sklearn/metrics/_classification.py:1565: UndefinedMetricWarning: Precision is ill-defined and being set to 0.0 in labels with no predicted samples. Use `zero_division` parameter to control this behavior.\n",
      "  _warn_prf(average, modifier, f\"{metric.capitalize()} is\", len(result))\n",
      "/home/kivanc57/Workplace/Repos/machine_learning/.venv/lib64/python3.12/site-packages/sklearn/metrics/_classification.py:1565: UndefinedMetricWarning: Precision is ill-defined and being set to 0.0 in labels with no predicted samples. Use `zero_division` parameter to control this behavior.\n",
      "  _warn_prf(average, modifier, f\"{metric.capitalize()} is\", len(result))\n"
     ]
    },
    {
     "name": "stdout",
     "output_type": "stream",
     "text": [
      "Cross-validation results:\n",
      "Accuracy: 0.5\n",
      "Precision: 0.25\n",
      "Recall: 0.5\n",
      "F1 Score: 0.33333333333333337\n",
      "Confusion Matrix:\n",
      "[[  0 200]\n",
      " [  0 200]]\n"
     ]
    },
    {
     "name": "stderr",
     "output_type": "stream",
     "text": [
      "/home/kivanc57/Workplace/Repos/machine_learning/.venv/lib64/python3.12/site-packages/sklearn/metrics/_classification.py:1565: UndefinedMetricWarning: Precision is ill-defined and being set to 0.0 in labels with no predicted samples. Use `zero_division` parameter to control this behavior.\n",
      "  _warn_prf(average, modifier, f\"{metric.capitalize()} is\", len(result))\n"
     ]
    }
   ],
   "source": [
    "cross_val_results, confusion_matrix_result = evaluate_model(model, X_train, y_train, X_test, y_test)"
   ]
  },
  {
   "cell_type": "code",
   "execution_count": null,
   "id": "ff8116c2",
   "metadata": {},
   "outputs": [],
   "source": []
  }
 ],
 "metadata": {
  "kernelspec": {
   "display_name": ".venv",
   "language": "python",
   "name": "python3"
  },
  "language_info": {
   "codemirror_mode": {
    "name": "ipython",
    "version": 3
   },
   "file_extension": ".py",
   "mimetype": "text/x-python",
   "name": "python",
   "nbconvert_exporter": "python",
   "pygments_lexer": "ipython3",
   "version": "3.12.10"
  }
 },
 "nbformat": 4,
 "nbformat_minor": 5
}
